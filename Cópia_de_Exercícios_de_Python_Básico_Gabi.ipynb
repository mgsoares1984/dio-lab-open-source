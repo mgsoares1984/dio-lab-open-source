{
  "nbformat": 4,
  "nbformat_minor": 0,
  "metadata": {
    "colab": {
      "provenance": [],
      "include_colab_link": true
    },
    "kernelspec": {
      "name": "python3",
      "display_name": "Python 3"
    },
    "language_info": {
      "name": "python"
    }
  },
  "cells": [
    {
      "cell_type": "markdown",
      "metadata": {
        "id": "view-in-github",
        "colab_type": "text"
      },
      "source": [
        "<a href=\"https://colab.research.google.com/github/mgsoares1984/dio-lab-open-source/blob/main/C%C3%B3pia_de_Exerc%C3%ADcios_de_Python_B%C3%A1sico_Gabi.ipynb\" target=\"_parent\"><img src=\"https://colab.research.google.com/assets/colab-badge.svg\" alt=\"Open In Colab\"/></a>"
      ]
    },
    {
      "cell_type": "markdown",
      "source": [
        "# 1 - Variáveis e Tipos de Dados"
      ],
      "metadata": {
        "id": "uxGISqtR2yNT"
      }
    },
    {
      "cell_type": "code",
      "execution_count": null,
      "metadata": {
        "id": "tLS0FEGj2rS7"
      },
      "outputs": [],
      "source": [
        "'''\n",
        "1.1. Crie variáveis para armazenar o nome, idade, peso e altura de uma pessoa.\n",
        "Imprima os valores e os tipos de dados dessas variáveis.\n",
        "'''\n"
      ]
    },
    {
      "cell_type": "code",
      "source": [
        "# Definindo variáveis\n",
        "nome = \"Gabi\"\n",
        "idade = 41\n",
        "peso = 65.5\n",
        "altura = 1.65\n",
        "\n",
        "# Imprimindo valores e tipos\n",
        "print(f'Nome:', nome, '- Tipo:', type(nome))\n",
        "print(f'Idade:', idade, '- Tipo:', type(idade))\n",
        "print(f'Peso:', peso, '- Tipo:', type(peso))\n",
        "print(f'Altura:', altura, '- Tipo:', type(altura))\n"
      ],
      "metadata": {
        "colab": {
          "base_uri": "https://localhost:8080/"
        },
        "id": "XeGuaqo2iQn2",
        "outputId": "81369d18-76e9-4416-f845-ab92c787bf36"
      },
      "execution_count": 1,
      "outputs": [
        {
          "output_type": "stream",
          "name": "stdout",
          "text": [
            "Nome: Gabi - Tipo: <class 'str'>\n",
            "Idade: 41 - Tipo: <class 'int'>\n",
            "Peso: 65.5 - Tipo: <class 'float'>\n",
            "Altura: 1.65 - Tipo: <class 'float'>\n"
          ]
        }
      ]
    },
    {
      "cell_type": "code",
      "source": [
        "'''\n",
        "1.2. Atualize a variável de peso para um valor diferente e imprima o novo valor.\n",
        "'''\n"
      ],
      "metadata": {
        "id": "VFVgrodF27TT",
        "colab": {
          "base_uri": "https://localhost:8080/"
        },
        "outputId": "32937a21-f34a-4c7f-8c7f-2fd68def452d"
      },
      "execution_count": null,
      "outputs": [
        {
          "output_type": "stream",
          "name": "stdout",
          "text": [
            "86\n"
          ]
        }
      ]
    },
    {
      "cell_type": "code",
      "source": [
        "peso = 67.5\n",
        "print(f'Peso:', peso, '- Tipo:', type(peso))"
      ],
      "metadata": {
        "colab": {
          "base_uri": "https://localhost:8080/"
        },
        "id": "W4vxirGijTgh",
        "outputId": "5a936069-c848-442c-c42c-fcd063520598"
      },
      "execution_count": 2,
      "outputs": [
        {
          "output_type": "stream",
          "name": "stdout",
          "text": [
            "Peso: 67.5 - Tipo: <class 'float'>\n"
          ]
        }
      ]
    },
    {
      "cell_type": "markdown",
      "source": [
        "# 2 - Operadores Matemáticos"
      ],
      "metadata": {
        "id": "RRRbkSkr3Ajw"
      }
    },
    {
      "cell_type": "code",
      "source": [
        "'''\n",
        "2.1. Crie uma variável a com valor 10 e uma variável b com valor 3. Realize as\n",
        "seguintes operações e imprima os resultados:\n",
        "Soma\n",
        "Subtração\n",
        "Multiplicação\n",
        "Divisão\n",
        "Parte inteira da divisão\n",
        "Resto da divisão\n",
        "Exponenciação\n",
        "'''\n"
      ],
      "metadata": {
        "id": "hHAztIDU3AJP"
      },
      "execution_count": null,
      "outputs": []
    },
    {
      "cell_type": "code",
      "source": [
        "a = 10\n",
        "b = 3\n",
        "soma = a + b\n",
        "subtracao = a - b\n",
        "multiplicacao = a * b\n",
        "divisao = round((a / b),2)\n",
        "parte_inteira = a // b\n",
        "resto_divisao = a % b\n",
        "exponenciacao = a ** b\n",
        "print(f'Soma:', {soma})\n",
        "print(f'Subtração:',{subtracao} )\n",
        "print(f'Multiplicação:', {multiplicacao})\n",
        "print(f'Divisão:', {divisao})\n",
        "print(f'Parte inteira da divisão:', {parte_inteira})\n",
        "print(f'Resto da divisão:', {resto_divisao})\n",
        "print(f'Exponenciação:', {exponenciacao})"
      ],
      "metadata": {
        "colab": {
          "base_uri": "https://localhost:8080/"
        },
        "id": "33hgnQiOjgEX",
        "outputId": "4f2d1dd4-8b09-4259-d965-2c76598cf8ba"
      },
      "execution_count": 4,
      "outputs": [
        {
          "output_type": "stream",
          "name": "stdout",
          "text": [
            "Soma: {13}\n",
            "Subtração: {7}\n",
            "Multiplicação: {30}\n",
            "Divisão: {3.33}\n",
            "Parte inteira da divisão: {3}\n",
            "Resto da divisão: {1}\n",
            "Exponenciação: {1000}\n"
          ]
        }
      ]
    },
    {
      "cell_type": "markdown",
      "source": [
        "# 3 - Entrada de Dados pelo Usuário\n"
      ],
      "metadata": {
        "id": "jWJt5Ep23OFd"
      }
    },
    {
      "cell_type": "code",
      "source": [
        "'''\n",
        "3.1. Peça ao usuário para digitar seu nome e armazene em uma variável. Imprima\n",
        "uma mensagem de boas-vindas usando o nome fornecido.\n",
        "'''\n"
      ],
      "metadata": {
        "id": "IiD6jUJh3eiD"
      },
      "execution_count": null,
      "outputs": []
    },
    {
      "cell_type": "code",
      "source": [
        "nome = input('Digite seu nome: ')\n",
        "print(f'Olá {nome}, seja bem vindo(a)!')"
      ],
      "metadata": {
        "colab": {
          "base_uri": "https://localhost:8080/"
        },
        "id": "P_6qUWTykf7o",
        "outputId": "ff6622d1-e3ec-4cbd-c265-9cf0a6c961f2"
      },
      "execution_count": 6,
      "outputs": [
        {
          "output_type": "stream",
          "name": "stdout",
          "text": [
            "Digite seu nome: Gabi\n",
            "Olá Gabi, seja bem vindo(a)!\n"
          ]
        }
      ]
    },
    {
      "cell_type": "code",
      "source": [
        "'''\n",
        "3.2. Peça ao usuário para digitar sua idade, peso e altura. Calcule o IMC e\n",
        "imprima o resultado arredondado para três casas decimais.\n",
        "'''\n"
      ],
      "metadata": {
        "id": "Y4kz72aR3k8d"
      },
      "execution_count": null,
      "outputs": []
    },
    {
      "cell_type": "code",
      "source": [
        "idade = int(input('Digite sua idade: '))\n",
        "peso = float(input('Digite seu peso: '))\n",
        "altura = float(input('Digite sua altura: '))\n",
        "imc = round((peso/(altura ** 2)),2)\n",
        "print(f'Seu IMC é: {imc}')"
      ],
      "metadata": {
        "colab": {
          "base_uri": "https://localhost:8080/"
        },
        "id": "-qnW-viQkn8U",
        "outputId": "064912b2-4df9-43c7-f722-e77fa3226c2b"
      },
      "execution_count": 7,
      "outputs": [
        {
          "output_type": "stream",
          "name": "stdout",
          "text": [
            "Digite sua idade: 41\n",
            "Digite seu peso: 65.5\n",
            "Digite sua altura: 1.65\n",
            "Seu IMC é: 24.06\n"
          ]
        }
      ]
    },
    {
      "cell_type": "code",
      "source": [
        "# Método Alternativo\n",
        "'''\n",
        "3.2. Peça ao usuário para digitar sua idade, peso e altura. Calcule o IMC e\n",
        "imprima o resultado arredondado para três casas decimais.\n",
        "'''\n"
      ],
      "metadata": {
        "id": "PrhJpkQVXU-V"
      },
      "execution_count": null,
      "outputs": []
    },
    {
      "cell_type": "code",
      "source": [
        "idade = int(input('Digite sua idade: '))\n",
        "peso = float(input('Digite seu peso: '))\n",
        "altura = float(input('Digite sua altura: '))\n",
        "imc = round((peso/(altura ** 2)),3)\n",
        "print(f'Seu IMC é: {imc}')"
      ],
      "metadata": {
        "colab": {
          "base_uri": "https://localhost:8080/"
        },
        "id": "P0T4PqP1k9sG",
        "outputId": "68b03a6d-6d02-4539-a0e9-5d5e3ad3ac8e"
      },
      "execution_count": 9,
      "outputs": [
        {
          "output_type": "stream",
          "name": "stdout",
          "text": [
            "Digite sua idade: 10\n",
            "Digite seu peso: 20.5\n",
            "Digite sua altura: 1.20\n",
            "Seu IMC é: 14.236\n"
          ]
        }
      ]
    },
    {
      "cell_type": "markdown",
      "source": [
        "# 4 - Função de Impressão"
      ],
      "metadata": {
        "id": "zqRV3Plv3pjL"
      }
    },
    {
      "cell_type": "code",
      "source": [
        "'''\n",
        "4.1. Peça ao usuário para digitar um número e imprima o número digitado.\n",
        "'''\n"
      ],
      "metadata": {
        "id": "N5AbRV3i3vYV"
      },
      "execution_count": null,
      "outputs": []
    },
    {
      "cell_type": "code",
      "source": [
        "numero = int(input('Digite um número: '))\n",
        "print(f'O número digitado foi: {numero}')"
      ],
      "metadata": {
        "id": "51kfY3cwlT7A"
      },
      "execution_count": null,
      "outputs": []
    },
    {
      "cell_type": "code",
      "source": [
        "'''\n",
        "4.2. Peça ao usuário para digitar dois números e imprima a soma deles.\n",
        "'''\n"
      ],
      "metadata": {
        "id": "qM2ocOFl3vpB"
      },
      "execution_count": null,
      "outputs": []
    },
    {
      "cell_type": "code",
      "source": [
        "a = int(input('Digite o primeiro número: '))\n",
        "b = int(input('Digite o segundo número: '))\n",
        "soma = a + b\n",
        "print(f'A soma dos números é: {soma}')"
      ],
      "metadata": {
        "colab": {
          "base_uri": "https://localhost:8080/"
        },
        "id": "4KXPCcI9lpPP",
        "outputId": "3909e297-7e84-400a-f015-78ae7f3562b9"
      },
      "execution_count": 10,
      "outputs": [
        {
          "output_type": "stream",
          "name": "stdout",
          "text": [
            "Digite o primeiro número: 10\n",
            "Digite o segundo número: 20\n",
            "A soma dos números é: 30\n"
          ]
        }
      ]
    },
    {
      "cell_type": "markdown",
      "source": [
        "# 5 - Métodos de Strings"
      ],
      "metadata": {
        "id": "RWwlLaOu35jq"
      }
    },
    {
      "cell_type": "code",
      "source": [
        "'''\n",
        "5.1. Peça ao usuário para digitar um e-mail e verifique se o e-mail contém o\n",
        "caractere '@'. Imprima uma mensagem indicando se é um e-mail válido ou não.\n",
        "'''\n"
      ],
      "metadata": {
        "id": "PnAPaeXY3-dA",
        "colab": {
          "base_uri": "https://localhost:8080/",
          "height": 35
        },
        "outputId": "71b535ea-4ee6-42b9-dcc1-797abae9944e"
      },
      "execution_count": 11,
      "outputs": [
        {
          "output_type": "execute_result",
          "data": {
            "text/plain": [
              "\"\\n5.1. Peça ao usuário para digitar um e-mail e verifique se o e-mail contém o\\ncaractere '@'. Imprima uma mensagem indicando se é um e-mail válido ou não.\\n\""
            ],
            "application/vnd.google.colaboratory.intrinsic+json": {
              "type": "string"
            }
          },
          "metadata": {},
          "execution_count": 11
        }
      ]
    },
    {
      "cell_type": "code",
      "source": [
        "email = input('Digite seu e-mail: ')\n",
        "if '@' in email:\n",
        "  print('E-mail válido')\n",
        "else:\n",
        "  print('E-mail inválido')"
      ],
      "metadata": {
        "colab": {
          "base_uri": "https://localhost:8080/"
        },
        "id": "usIv1U7ZnFHz",
        "outputId": "c5efae1a-2e57-4923-bbab-15d1a56a064e"
      },
      "execution_count": 12,
      "outputs": [
        {
          "output_type": "stream",
          "name": "stdout",
          "text": [
            "Digite seu e-mail: gabi@gmail.com\n",
            "E-mail válido\n"
          ]
        }
      ]
    },
    {
      "cell_type": "code",
      "source": [
        "'''\n",
        "5.2. Peça ao usuário para digitar uma frase e:\n",
        "Converta a frase para maiúsculas.\n",
        "Converta a frase para minúsculas.\n",
        "Converta a primeira letra de cada palavra para maiúscula.\n",
        "Verifique se a frase começa com uma determinada palavra (ex.: 'Olá').\n",
        "'''\n"
      ],
      "metadata": {
        "id": "nkwe0I9c3-w-"
      },
      "execution_count": null,
      "outputs": []
    },
    {
      "cell_type": "code",
      "source": [
        "frase = input('Digite uma frase: ')\n",
        "print(f'Frase em maiúsculo: {frase.upper()}')\n",
        "print(f'Frase em minúsculo: {frase.lower()}')\n",
        "print(f'Primeira letra de cada palavra em maiúsculo: {frase.title()}')\n",
        "if frase.startswith('Olá'):\n",
        "  print('A frase começa com a palavra \"Olá\"')\n",
        "else:\n",
        "  print('A frase não começa com a palavra \"Olá\"')"
      ],
      "metadata": {
        "colab": {
          "base_uri": "https://localhost:8080/"
        },
        "id": "FDP44MXMnX7Q",
        "outputId": "ecdeb207-946a-49e4-932f-f17a7549c87d"
      },
      "execution_count": 14,
      "outputs": [
        {
          "output_type": "stream",
          "name": "stdout",
          "text": [
            "Digite uma frase: Olá mundo\n",
            "Frase em maiúsculo: OLÁ MUNDO\n",
            "Frase em minúsculo: olá mundo\n",
            "Primeira letra de cada palavra em maiúsculo: Olá Mundo\n",
            "A frase começa com a palavra \"Olá\"\n"
          ]
        }
      ]
    },
    {
      "cell_type": "markdown",
      "source": [
        "# 6 - Listas"
      ],
      "metadata": {
        "id": "HZQlB-8K4snX"
      }
    },
    {
      "cell_type": "code",
      "source": [
        "'''\n",
        "6.1. Crie uma lista com os nomes de cinco amigos. Imprima o nome do terceiro\n",
        "amigo na lista.\n",
        "'''\n"
      ],
      "metadata": {
        "id": "3_3JLvXZ4sBG"
      },
      "execution_count": null,
      "outputs": []
    },
    {
      "cell_type": "code",
      "source": [
        "pessoa = ['Gabi','Fernanda','Duda','Maria','Joana']\n",
        "print(f'O terceiro amigo é: {pessoa[2]}')"
      ],
      "metadata": {
        "colab": {
          "base_uri": "https://localhost:8080/"
        },
        "id": "fddyU7Yxp5w8",
        "outputId": "f92ce56a-ca6d-404c-b89a-ec9184558013"
      },
      "execution_count": 15,
      "outputs": [
        {
          "output_type": "stream",
          "name": "stdout",
          "text": [
            "O terceiro amigo é: Duda\n"
          ]
        }
      ]
    },
    {
      "cell_type": "code",
      "source": [
        "'''\n",
        "6.2. Adicione um novo nome à lista de amigos e remova o primeiro nome.\n",
        "Imprima a lista atualizada.\n",
        "'''\n"
      ],
      "metadata": {
        "id": "ppcjLqMb4yDu"
      },
      "execution_count": null,
      "outputs": []
    },
    {
      "cell_type": "code",
      "source": [
        "pessoa = ['Gabi','Fernanda','Duda','Maria','Joana']\n",
        "pessoa.append('Paula')\n",
        "pessoa.pop(0)\n",
        "print(pessoa)"
      ],
      "metadata": {
        "colab": {
          "base_uri": "https://localhost:8080/"
        },
        "id": "kAYgPR2lqRIu",
        "outputId": "1ffaae79-5f16-4fc6-c2e7-0d5ea5ec2f7c"
      },
      "execution_count": 16,
      "outputs": [
        {
          "output_type": "stream",
          "name": "stdout",
          "text": [
            "['Fernanda', 'Duda', 'Maria', 'Joana', 'Paula']\n"
          ]
        }
      ]
    },
    {
      "cell_type": "code",
      "source": [
        "'''\n",
        "6.3. Crie uma lista com as idades dos seus amigos e:\n",
        "Imprima a idade do amigo mais velho.\n",
        "Imprima a idade do amigo mais novo.\n",
        "Calcule e imprima a soma das idades.\n",
        "'''\n"
      ],
      "metadata": {
        "id": "Hoz7RcUW4zc4"
      },
      "execution_count": null,
      "outputs": []
    },
    {
      "cell_type": "code",
      "source": [
        "idade = [41, 40, 39, 25, 30]\n",
        "print(f'A amiga mais velha tem {max(idade)} anos')\n",
        "print(f'A amiga mais nova tem {min(idade)} anos')\n",
        "print(f'A soma das idades é: {sum(idade)}')"
      ],
      "metadata": {
        "colab": {
          "base_uri": "https://localhost:8080/"
        },
        "id": "5z7VVCZuqW1q",
        "outputId": "b2b8ebb3-59af-461e-b65d-e5b1b7c0a9b4"
      },
      "execution_count": 17,
      "outputs": [
        {
          "output_type": "stream",
          "name": "stdout",
          "text": [
            "A amiga mais velha tem 41 anos\n",
            "A amiga mais nova tem 25 anos\n",
            "A soma das idades é: 175\n"
          ]
        }
      ]
    },
    {
      "cell_type": "markdown",
      "source": [
        "# 7 - Tuplas"
      ],
      "metadata": {
        "id": "9WTzsCNH4-tT"
      }
    },
    {
      "cell_type": "code",
      "source": [
        "'''\n",
        "7.1 Crie uma tupla com as informações de um cliente (nome, idade, peso, altura).\n",
        "Imprima todas as informações.\n",
        "'''"
      ],
      "metadata": {
        "id": "XpWW7G-p5BOJ"
      },
      "execution_count": null,
      "outputs": []
    },
    {
      "cell_type": "code",
      "source": [
        "cliente = ('Gabi', 41, 65.5, 1.65)\n",
        "print(f'Nome: {cliente[0]}')\n",
        "print(f'Idade: {cliente[1]}')\n",
        "print(f'Peso: {cliente[2]}')\n",
        "print(f'Altura: {cliente[3]}')"
      ],
      "metadata": {
        "colab": {
          "base_uri": "https://localhost:8080/"
        },
        "id": "hLQsYXYRqrOL",
        "outputId": "b0360a6f-a064-43a4-8092-8d5fb458f54c"
      },
      "execution_count": 19,
      "outputs": [
        {
          "output_type": "stream",
          "name": "stdout",
          "text": [
            "Nome: Gabi\n",
            "Idade: 41\n",
            "Peso: 65.5\n",
            "Altura: 1.65\n"
          ]
        }
      ]
    },
    {
      "cell_type": "code",
      "source": [
        "'''\n",
        "7.2. Crie uma nova tupla concatenando a tupla do exercício anterior com o e-mail\n",
        "do cliente. Imprima a nova tupla.\n",
        "'''\n"
      ],
      "metadata": {
        "id": "tIzWFwzc5GQ8"
      },
      "execution_count": null,
      "outputs": []
    },
    {
      "cell_type": "code",
      "source": [
        "cliente = ('Gabi', 41, 65.5, 1.65)\n",
        "email = ('gabi@gmail.com')\n",
        "cliente_completo = cliente + (email,)\n",
        "print(cliente_completo)"
      ],
      "metadata": {
        "colab": {
          "base_uri": "https://localhost:8080/"
        },
        "id": "D37ZBU8eq9Kr",
        "outputId": "97068f42-5488-44d3-b694-823699715755"
      },
      "execution_count": 22,
      "outputs": [
        {
          "output_type": "stream",
          "name": "stdout",
          "text": [
            "('Gabi', 41, 65.5, 1.65, 'gabi@gmail.com')\n"
          ]
        }
      ]
    },
    {
      "cell_type": "markdown",
      "source": [
        "# 8 - Dicionários"
      ],
      "metadata": {
        "id": "-zg06dPu5ZJC"
      }
    },
    {
      "cell_type": "code",
      "source": [
        "'''\n",
        "8.1. Crie um dicionário com informações de um cliente\n",
        "(nome, idade, peso, altura). Imprima o valor associado à chave 'nome'.\n",
        "'''\n"
      ],
      "metadata": {
        "id": "E_wd3pdX5clA"
      },
      "execution_count": null,
      "outputs": []
    },
    {
      "cell_type": "code",
      "source": [
        "cliente = {'nome': 'Gabi',\n",
        "           'idade': 41,\n",
        "           'peso': 65.5,\n",
        "           'altura': 1.65}\n",
        "print(f'Nome: {cliente[\"nome\"]}')"
      ],
      "metadata": {
        "colab": {
          "base_uri": "https://localhost:8080/"
        },
        "id": "aN_m0BqRrqsz",
        "outputId": "066cd381-c9a6-4c6b-be20-49908230e496"
      },
      "execution_count": 23,
      "outputs": [
        {
          "output_type": "stream",
          "name": "stdout",
          "text": [
            "Nome: Gabi\n"
          ]
        }
      ]
    },
    {
      "cell_type": "code",
      "source": [
        "'''\n",
        "8.2. Adicione uma nova chave 'email' ao dicionário do exercício anterior e\n",
        "imprima o dicionário atualizado.\n",
        "'''\n"
      ],
      "metadata": {
        "id": "kM-tUW7o5eK7"
      },
      "execution_count": null,
      "outputs": []
    },
    {
      "cell_type": "code",
      "source": [
        "cliente = {'nome': 'Gabi',\n",
        "           'idade': 41,\n",
        "           'peso': 65.5,\n",
        "           'altura': 1.65}\n",
        "\n",
        "cliente['email'] = 'gabi@gmail.com'\n",
        "print(cliente)"
      ],
      "metadata": {
        "colab": {
          "base_uri": "https://localhost:8080/"
        },
        "id": "4KJAh_2WryRI",
        "outputId": "874f4ad1-4eb0-4e79-a1ad-ee7f39c70b35"
      },
      "execution_count": 24,
      "outputs": [
        {
          "output_type": "stream",
          "name": "stdout",
          "text": [
            "{'nome': 'Gabi', 'idade': 41, 'peso': 65.5, 'altura': 1.65, 'email': 'gabi@gmail.com'}\n"
          ]
        }
      ]
    },
    {
      "cell_type": "code",
      "source": [
        "'''\n",
        "8.3. Remova a chave 'peso' do dicionário e verifique se a chave 'endereço' está\n",
        "no dicionário. Imprima os resultados.\n",
        "'''\n"
      ],
      "metadata": {
        "id": "xFhFuFOV5ffs"
      },
      "execution_count": null,
      "outputs": []
    },
    {
      "cell_type": "code",
      "source": [
        "cliente = {'nome': 'Gabi',\n",
        "           'idade': 41,\n",
        "           'peso': 65.5,\n",
        "           'altura': 1.65,\n",
        "           'email': 'gabi@gmail.com'}\n",
        "cliente.pop('peso')\n",
        "if 'endereço' in cliente:\n",
        "  print('A chave \"endereço\" está no dicionário')\n",
        "else:\n",
        "  print('A chave \"endereço\" não está no dicionário')"
      ],
      "metadata": {
        "colab": {
          "base_uri": "https://localhost:8080/"
        },
        "id": "Ntud-Qaur6W_",
        "outputId": "33610b6a-30db-41ca-b82b-6a0f5a7d791d"
      },
      "execution_count": 25,
      "outputs": [
        {
          "output_type": "stream",
          "name": "stdout",
          "text": [
            "A chave \"endereço\" não está no dicionário\n"
          ]
        }
      ]
    },
    {
      "cell_type": "markdown",
      "source": [
        "# 9 - Controle de Fluxo"
      ],
      "metadata": {
        "id": "zDOsohbe5sjQ"
      }
    },
    {
      "cell_type": "code",
      "source": [
        "# Condicionais\n",
        "'''\n",
        "9.1. Peça ao usuário para digitar sua idade e verifique se ele é menor de idade,\n",
        " adulto ou idoso. Imprima uma mensagem correspondente.\n",
        "'''\n"
      ],
      "metadata": {
        "id": "efFgv5Xx5wFC"
      },
      "execution_count": null,
      "outputs": []
    },
    {
      "cell_type": "code",
      "source": [
        "idade = int(input('Digite sua idade: '))\n",
        "if idade < 18:\n",
        "  print('Você é menor de idade')\n",
        "elif idade >= 18 and idade < 60:\n",
        "  print('Você é adulto')\n",
        "else:\n",
        "  print('Você é idoso')"
      ],
      "metadata": {
        "id": "ldtUtz2AsKyE"
      },
      "execution_count": null,
      "outputs": []
    },
    {
      "cell_type": "code",
      "source": [
        "# Condicionais\n",
        "'''\n",
        "9.2. Peça ao usuário para digitar uma nota (0 a 100) e imprima se ele foi\n",
        "aprovado (nota >= 60) ou reprovado.\n",
        "'''\n"
      ],
      "metadata": {
        "id": "pse5b4NO52OP"
      },
      "execution_count": null,
      "outputs": []
    },
    {
      "cell_type": "code",
      "source": [
        "nota =  float(input ('Digite sua nota: '))\n",
        "if nota >= 60:\n",
        "  print('Você foi aprovado')\n",
        "else:\n",
        "  print('Você foi reprovado')\n"
      ],
      "metadata": {
        "id": "CpzEn1xXsxPY"
      },
      "execution_count": null,
      "outputs": []
    },
    {
      "cell_type": "code",
      "source": [
        "# Loop For\n",
        "'''\n",
        "9.3. Crie uma lista com os nomes de cinco cidades. Use um loop for para imprimir\n",
        "cada nome de cidade.\n",
        "'''\n"
      ],
      "metadata": {
        "id": "inMnGHFy525K"
      },
      "execution_count": null,
      "outputs": []
    },
    {
      "cell_type": "code",
      "source": [
        "cidades = ['São Paulo', 'Rio de Janeiro', 'Belo Horizonte', 'Porto Alegre', 'Curitiba']\n",
        "for cidade in cidades:\n",
        "  print(cidade)"
      ],
      "metadata": {
        "colab": {
          "base_uri": "https://localhost:8080/"
        },
        "id": "VKKnzp62tTIV",
        "outputId": "718d39ed-f31c-42ba-fcb3-0598e0c28efd"
      },
      "execution_count": 26,
      "outputs": [
        {
          "output_type": "stream",
          "name": "stdout",
          "text": [
            "São Paulo\n",
            "Rio de Janeiro\n",
            "Belo Horizonte\n",
            "Porto Alegre\n",
            "Curitiba\n"
          ]
        }
      ]
    },
    {
      "cell_type": "code",
      "source": [
        "# Loop For\n",
        "'''\n",
        "9.4. Crie uma lista com os números de 1 a 10. Use um loop for para imprimir o\n",
        "quadrado de cada número.\n",
        "'''\n"
      ],
      "metadata": {
        "id": "GitTfGfM539Y"
      },
      "execution_count": null,
      "outputs": []
    },
    {
      "cell_type": "code",
      "source": [
        "numeros = [1, 2, 3, 4, 5, 6, 7, 8, 9, 10]\n",
        "for n in numeros:\n",
        "  print(n**2)"
      ],
      "metadata": {
        "colab": {
          "base_uri": "https://localhost:8080/"
        },
        "id": "3LD9IB_Ytsob",
        "outputId": "5c0226d7-c4f6-48b2-deb7-2f6860186407"
      },
      "execution_count": 27,
      "outputs": [
        {
          "output_type": "stream",
          "name": "stdout",
          "text": [
            "1\n",
            "4\n",
            "9\n",
            "16\n",
            "25\n",
            "36\n",
            "49\n",
            "64\n",
            "81\n",
            "100\n"
          ]
        }
      ]
    },
    {
      "cell_type": "markdown",
      "source": [
        "# 10 - Estudo de caso 01"
      ],
      "metadata": {
        "id": "_vJUEjo_6mWX"
      }
    },
    {
      "cell_type": "code",
      "source": [
        "'''\n",
        "Contexto:\n",
        "Uma empresa precisa registrar informações sobre seus clientes e calcular o IMC\n",
        "(Índice de Massa Corporal) de cada um deles. As informações devem ser\n",
        "armazenadas em um dicionário e exibidas ao final.\n",
        "'''\n",
        "\n",
        "\n",
        "'''\n",
        "Requisitos:\n",
        "Peça ao usuário para inserir os seguintes dados de um cliente:\n",
        "Nome\n",
        "Idade\n",
        "Peso (em kg)\n",
        "Altura (em metros)\n",
        "E-mail\n",
        "Armazene essas informações em um dicionário.\n",
        "Calcule o IMC do cliente (IMC = Peso / (Altura * Altura)) e adicione esse valor ao dicionário.\n",
        "Exiba todas as informações do cliente, incluindo o IMC arredondado para duas casas decimais.\n",
        "\n",
        "'''\n"
      ],
      "metadata": {
        "id": "llIsNhsG6l_z"
      },
      "execution_count": null,
      "outputs": []
    },
    {
      "cell_type": "code",
      "source": [
        "cliente = {}\n",
        "cliente['nome'] = input('Digite seu nome: ')\n",
        "cliente['idade'] = int(input('Digite sua idade: '))\n",
        "cliente['peso'] = float(input('Digite seu peso: '))\n",
        "cliente['altura'] = float(input('Digite sua altura: '))\n",
        "cliente['email'] = input('Digite seu e-mail: ')\n",
        "cliente['imc'] = round((cliente['peso']/(cliente['altura'] ** 2)),2)\n",
        "print(cliente)"
      ],
      "metadata": {
        "colab": {
          "base_uri": "https://localhost:8080/"
        },
        "id": "pX3SRhD-uqZf",
        "outputId": "a9b28325-c63e-4f33-976c-4e2236219afe"
      },
      "execution_count": 28,
      "outputs": [
        {
          "output_type": "stream",
          "name": "stdout",
          "text": [
            "Digite seu nome: Gabi\n",
            "Digite sua idade: 41\n",
            "Digite seu peso: 65\n",
            "Digite sua altura: 1.65\n",
            "Digite seu e-mail: gabi@gmail.com\n",
            "{'nome': 'Gabi', 'idade': 41, 'peso': 65.0, 'altura': 1.65, 'email': 'gabi@gmail.com', 'imc': 23.88}\n"
          ]
        }
      ]
    },
    {
      "cell_type": "markdown",
      "source": [
        "# 11 - Estudo de Caso 02"
      ],
      "metadata": {
        "id": "_Yi8lRKQ68B3"
      }
    },
    {
      "cell_type": "code",
      "source": [
        "'''\n",
        "Contexto:\n",
        "Uma escola precisa analisar as notas de seus alunos e determinar se cada aluno\n",
        "foi aprovado ou reprovado. As notas serão armazenadas em uma lista e a análise\n",
        "deve ser realizada em um loop.\n",
        "'''\n",
        "\n",
        "''\n",
        "Requisitos:\n",
        "Peça ao usuário para inserir o nome e a nota de cinco alunos.\n",
        "Armazene os nomes e as notas em listas separadas.\n",
        "Para cada aluno, verifique se a nota é maior ou igual a 60. Se sim, o aluno está\n",
        "aprovado; caso contrário, está reprovado.\n",
        "Exiba uma mensagem para cada aluno informando seu nome, nota e se foi aprovado\n",
        "ou reprovado\n",
        "100..."
      ],
      "metadata": {
        "id": "mrqCtmjg6_It"
      },
      "execution_count": null,
      "outputs": []
    },
    {
      "cell_type": "code",
      "source": [
        "nomes = []\n",
        "notas = []\n",
        "\n",
        "for i in range(5):\n",
        "    nome = input(f\"Digite o nome do {i+1} aluno: \")\n",
        "    nota = float(input(f\"Digite a nota de {nome}: \"))\n",
        "    nomes.append(nome)\n",
        "    notas.append(nota)\n",
        "\n",
        "for i in range(5):\n",
        "    status = \"Aprovado\" if notas[i] >= 60 else \"Reprovado\"\n",
        "    print(f\"Aluno: {nomes[i]}, Nota: {notas[i]}, Status: {status}\")"
      ],
      "metadata": {
        "colab": {
          "base_uri": "https://localhost:8080/"
        },
        "id": "IXJJixFyuzAI",
        "outputId": "03953b35-a57f-4a74-a2ca-a85cca2d2799"
      },
      "execution_count": 33,
      "outputs": [
        {
          "output_type": "stream",
          "name": "stdout",
          "text": [
            "Digite o nome do 1 aluno: Gabi\n",
            "Digite a nota de Gabi: 100\n",
            "Digite o nome do 2 aluno: Dany\n",
            "Digite a nota de Dany: 60\n",
            "Digite o nome do 3 aluno: Joao\n",
            "Digite a nota de Joao: 40\n",
            "Digite o nome do 4 aluno: Maria\n",
            "Digite a nota de Maria: 10\n",
            "Digite o nome do 5 aluno: Luiz\n",
            "Digite a nota de Luiz: 80\n",
            "Aluno: Gabi, Nota: 100.0, Status: Aprovado\n",
            "Aluno: Dany, Nota: 60.0, Status: Aprovado\n",
            "Aluno: Joao, Nota: 40.0, Status: Reprovado\n",
            "Aluno: Maria, Nota: 10.0, Status: Reprovado\n",
            "Aluno: Luiz, Nota: 80.0, Status: Aprovado\n"
          ]
        }
      ]
    },
    {
      "cell_type": "markdown",
      "source": [
        "# 12 - Estudo de caso 03"
      ],
      "metadata": {
        "id": "DoDAFqG37QWG"
      }
    },
    {
      "cell_type": "code",
      "source": [
        "'''\n",
        "Contexto\n",
        "Uma empresa deseja realizar uma pesquisa de opinião com cinco participantes\n",
        "sobre um novo produto. As respostas devem ser armazenadas e analisadas para\n",
        "verificar a satisfação dos clientes.\n",
        "'''\n",
        "\n",
        "'''\n",
        "Requisitos\n",
        "Peça ao usuário para inserir o nome e a opinião (satisfeito/insatisfeito) de\n",
        "cinco participantes.\n",
        "Armazene os nomes e as opiniões em um dicionário.\n",
        "Conte o número de participantes satisfeitos e insatisfeitos.\n",
        "Exiba a lista de participantes satisfeitos e insatisfeitos, bem como o número\n",
        "total de cada categoria.\n",
        "'''\n"
      ],
      "metadata": {
        "id": "34JqxL0B7Tvj"
      },
      "execution_count": null,
      "outputs": []
    },
    {
      "cell_type": "code",
      "source": [
        "resultado = {}\n",
        "for i in range(5):\n",
        "    nome = input(f\"Digite o nome do {i+1} participante: \")\n",
        "    opiniao = input(f\"Olá {nome}. Digite a sua opinião (satisfeito/insatisfeito): \")\n",
        "    resultado[nome] = opiniao.lower()\n",
        "\n",
        "satisfeito = 0\n",
        "insatisfeito = 0\n",
        "for i in resultado.values():\n",
        "    if i == 'satisfeito':\n",
        "        satisfeito += 1\n",
        "    elif i == 'insatisfeito':\n",
        "        insatisfeito += 1\n",
        "print(f\"Total de participantes satisfeitos: {satisfeito}\")\n",
        "print(f\"Total de participantes insatisfeitos: {insatisfeito}\")\n",
        "print(resultado)\n"
      ],
      "metadata": {
        "colab": {
          "base_uri": "https://localhost:8080/"
        },
        "id": "BCiK8plLw6S5",
        "outputId": "fdc5b530-1026-4c78-cdf3-5f4984d810bb"
      },
      "execution_count": 37,
      "outputs": [
        {
          "output_type": "stream",
          "name": "stdout",
          "text": [
            "Digite o nome do 1 participante: Maria\n",
            "Olá Maria. Digite a sua opinião (satisfeito/insatisfeito): SATISFEITO\n",
            "Digite o nome do 2 participante: Joana\n",
            "Olá Joana. Digite a sua opinião (satisfeito/insatisfeito): satisfeito\n",
            "Digite o nome do 3 participante: Luiz\n",
            "Olá Luiz. Digite a sua opinião (satisfeito/insatisfeito): INSATISFEITO\n",
            "Digite o nome do 4 participante: Karen\n",
            "Olá Karen. Digite a sua opinião (satisfeito/insatisfeito): insatisfeito\n",
            "Digite o nome do 5 participante: Susan\n",
            "Olá Susan. Digite a sua opinião (satisfeito/insatisfeito): Satisfeito\n",
            "Total de participantes satisfeitos: 3\n",
            "Total de participantes insatisfeitos: 2\n",
            "{'Maria': 'satisfeito', 'Joana': 'satisfeito', 'Luiz': 'insatisfeito', 'Karen': 'insatisfeito', 'Susan': 'satisfeito'}\n"
          ]
        }
      ]
    }
  ]
}